{
 "cells": [
  {
   "cell_type": "markdown",
   "metadata": {},
   "source": [
    "# LOSC Data Quickview\n",
    "\n",
    "A lot of this code, especially when fast fourier transforms are applied is lifted from the tutorial at <a href='https://losc.ligo.org/'>LIGO Open Science Center</a>. It's very good.\n"
   ]
  },
  {
   "cell_type": "markdown",
   "metadata": {},
   "source": [
    "## Set GPS time and data set\n",
    "Example GPS times for <a href='https://losc.ligo.org/s6hwcbc/'>S6 Hardware Injections</a>"
   ]
  },
  {
   "cell_type": "code",
   "execution_count": 23,
   "metadata": {},
   "outputs": [],
   "source": [
    "t0 = 1187008064 # Time of big dog (S6 blind injection)\n",
    "# t0 = 933661015.0  # Time of a successful s6 hardware injection in H1 (SNR 140)\n",
    "\n",
    "dataset = 'S6'\n",
    "detector = 'L1'\n",
    "version = 'V1'  # V1 is \"version 1\" of the data release\n"
   ]
  },
  {
   "cell_type": "markdown",
   "metadata": {},
   "source": [
    "## Download the data file\n",
    "See also <a href='https://losc.ligo.org/tutorial_get_data2/'>this download tutorial.</a>"
   ]
  },
  {
   "cell_type": "code",
   "execution_count": 24,
   "metadata": {},
   "outputs": [
    {
     "name": "stdout",
     "output_type": "stream",
     "text": [
      "../data/L-L1_LOSC_CLN_4_V1-1187007040-2048.hdf5\n"
     ]
    }
   ],
   "source": [
    "import json\n",
    "from urllib.request import urlopen\n",
    "\n",
    "'''\n",
    "observatory = detector[0]         # first letter of the detector H or L\n",
    "hour        = int(t0)&0xFFFFF000  # the filename rounding down to a multiple of 4096\n",
    "fortnight   = int(t0)&0xFFF00000  # the directory by rounding down to multiple of 4096*256\n",
    "filename = '{0}-{1}_LOSC_4_{2}-{3}-2048.hdf5'.format(observatory, detector, version, hour)\n",
    "urlformat = 'https://losc.ligo.org/archive/data/{0}/{1}/{2}'\n",
    "url = urlformat.format(dataset, fortnight, filename)\n",
    "'''\n",
    "# -- Uncomment these 3 lines to run this notebook on GW150914 instead!\n",
    "#t0 = 1126259462.43 # GW150914\n",
    "#url = 'https://losc.ligo.org/s/events/GW150914/H-H1_LOSC_4_V2-1126259446-32.hdf5'\n",
    "#filename = url.split('/')[-1]\n",
    "\n",
    "# -- Uncomment these 3 lines to run this notebook on GW170817 instead -- Binary Neutron star merger, Livingston data!\n",
    "t0 = 1187008882.43 # GW170817\n",
    "url = 'https://dcc.ligo.org/public/0146/P1700349/001/L-L1_LOSC_CLN_4_V1-1187007040-2048.hdf5'\n",
    "filename = \"../data/\" + url.split('/')[-1]\n",
    "\n",
    "print(filename)\n",
    "# -- Uncomment these 3 lines to run this notebook on GW170817 instead -- Binary Neutron star merger, Livingston data!\n",
    "#t0 = 1186992128 + 2048 # GW170817\n",
    "#url = 'https://www.gw-openscience.org/archive/data/O2_16KHZ_R1/1186988032/L-L1_GWOSC_O2_16KHZ_R1-1186992128-4096.hdf5'\n",
    "#filename = url.split('/')[-1]\n",
    "#https://www.gw-openscience.org/timeline/show/O2_16KHZ_R1/H1_DATA*L1_DATA*V1_DATA/1186873467/181068/9/"
   ]
  },
  {
   "cell_type": "markdown",
   "metadata": {},
   "source": [
    "The difference between GW150914 and GW170817 is that the time band is much larger on the neutron detection. In fact, the data for the GW150914, is contained in a 32 second segment whereas the data in the neutron detection comes from a 2048 second burst."
   ]
  },
  {
   "cell_type": "code",
   "execution_count": 25,
   "metadata": {},
   "outputs": [
    {
     "name": "stdout",
     "output_type": "stream",
     "text": [
      "Downloading https://dcc.ligo.org/public/0146/P1700349/001/L-L1_LOSC_CLN_4_V1-1187007040-2048.hdf5  (this might take a few minutes...)\n"
     ]
    },
    {
     "ename": "FileNotFoundError",
     "evalue": "[Errno 2] No such file or directory: '../data/L-L1_LOSC_CLN_4_V1-1187007040-2048.hdf5'",
     "output_type": "error",
     "traceback": [
      "\u001b[0;31m---------------------------------------------------------------------------\u001b[0m",
      "\u001b[0;31mFileNotFoundError\u001b[0m                         Traceback (most recent call last)",
      "\u001b[0;32m<ipython-input-25-07bed598c7bb>\u001b[0m in \u001b[0;36m<module>\u001b[0;34m()\u001b[0m\n\u001b[1;32m      1\u001b[0m \u001b[0mprint\u001b[0m\u001b[0;34m(\u001b[0m\u001b[0;34m'Downloading '\u001b[0m \u001b[0;34m+\u001b[0m \u001b[0murl\u001b[0m \u001b[0;34m+\u001b[0m \u001b[0;34m'  (this might take a few minutes...)'\u001b[0m\u001b[0;34m)\u001b[0m\u001b[0;34m\u001b[0m\u001b[0;34m\u001b[0m\u001b[0m\n\u001b[1;32m      2\u001b[0m \u001b[0mr\u001b[0m \u001b[0;34m=\u001b[0m \u001b[0murlopen\u001b[0m\u001b[0;34m(\u001b[0m\u001b[0murl\u001b[0m\u001b[0;34m)\u001b[0m\u001b[0;34m.\u001b[0m\u001b[0mread\u001b[0m\u001b[0;34m(\u001b[0m\u001b[0;34m)\u001b[0m\u001b[0;34m\u001b[0m\u001b[0;34m\u001b[0m\u001b[0m\n\u001b[0;32m----> 3\u001b[0;31m \u001b[0mf\u001b[0m \u001b[0;34m=\u001b[0m \u001b[0mopen\u001b[0m\u001b[0;34m(\u001b[0m\u001b[0mfilename\u001b[0m\u001b[0;34m,\u001b[0m \u001b[0;34m'wb'\u001b[0m\u001b[0;34m)\u001b[0m\u001b[0;34m\u001b[0m\u001b[0;34m\u001b[0m\u001b[0m\n\u001b[0m\u001b[1;32m      4\u001b[0m \u001b[0mf\u001b[0m\u001b[0;34m.\u001b[0m\u001b[0mwrite\u001b[0m\u001b[0;34m(\u001b[0m\u001b[0mr\u001b[0m\u001b[0;34m)\u001b[0m\u001b[0;34m\u001b[0m\u001b[0;34m\u001b[0m\u001b[0m\n\u001b[1;32m      5\u001b[0m \u001b[0mf\u001b[0m\u001b[0;34m.\u001b[0m\u001b[0mclose\u001b[0m\u001b[0;34m(\u001b[0m\u001b[0;34m)\u001b[0m\u001b[0;34m\u001b[0m\u001b[0;34m\u001b[0m\u001b[0m\n",
      "\u001b[0;31mFileNotFoundError\u001b[0m: [Errno 2] No such file or directory: '../data/L-L1_LOSC_CLN_4_V1-1187007040-2048.hdf5'"
     ]
    }
   ],
   "source": [
    "print('Downloading ' + url + '  (this might take a few minutes...)')\n",
    "r = urlopen(url).read()\n",
    "f = open(filename, 'wb')\n",
    "f.write(r)\n",
    "f.close()\n",
    "print(\"File download complete\")"
   ]
  },
  {
   "cell_type": "markdown",
   "metadata": {},
   "source": [
    "'''\n",
    "#Trying to read data for the Neutron star merger\n",
    "import h5py \n",
    "filename = \"/home/calum/Documents/MAS406 Dissertation/1760/LIGO Data Analysis/L-L1_LOSC_CLN_4_V2-1187007040-2048.hdf5\"\n",
    "f = h5py.File(filename, 'r')\n",
    "'''"
   ]
  },
  {
   "cell_type": "markdown",
   "metadata": {},
   "source": [
    "## Import some python modules"
   ]
  },
  {
   "cell_type": "code",
   "execution_count": null,
   "metadata": {},
   "outputs": [],
   "source": [
    "# Standard python numerical analysis imports:\n",
    "import numpy as np\n",
    "from scipy import signal\n",
    "from scipy.interpolate import interp1d\n",
    "from scipy.signal import butter, filtfilt, iirdesign, zpk2tf, freqz\n",
    "\n",
    "# the ipython magic below must be commented out in the .py file, since it doesn't work.\n",
    "%matplotlib inline\n",
    "%config InlineBackend.figure_format = 'retina'\n",
    "import matplotlib.pyplot as plt\n",
    "import matplotlib.mlab as mlab\n",
    "import h5py\n",
    "\n",
    "# LIGO-specific readligo.py \n",
    "import readligo as rl"
   ]
  },
  {
   "cell_type": "markdown",
   "metadata": {},
   "source": [
    "**NOTE** Watch out for data gaps! See notes on the LOSC website, for example here: https://losc.ligo.org/segments/\n",
    "\n",
    "## Load data"
   ]
  },
  {
   "cell_type": "code",
   "execution_count": null,
   "metadata": {},
   "outputs": [],
   "source": [
    "strain, time, chan_dict_L1 = rl.loaddata(filename, 'L1') #This sees the readligo.py python script to read in the filename\n",
    "\n",
    "# the time sample interval (uniformly sampled!)\n",
    "dt = time[1] - time[0]\n",
    "fs = int(np.round(1/dt))\n",
    "rel_time = time - t0\n",
    "\n",
    "print(\"Got a sample frequency of {0}\".format(fs))\n",
    "print (\"Found {0} seconds of data\".format(strain.size*dt))\n",
    "print(time.shape, strain.shape)\n",
    "print(\"number of data = %d\" % (4096*2048))\n"
   ]
  },
  {
   "cell_type": "markdown",
   "metadata": {},
   "source": [
    "## Calculate the ASD"
   ]
  },
  {
   "cell_type": "code",
   "execution_count": null,
   "metadata": {},
   "outputs": [],
   "source": [
    "#-- How much data to use for the ASD?\n",
    "deltat = 16  # Number of seconds on each side of data, best at around 16, below = loss of data, above = smudging affect\n",
    "N_samp = deltat*fs\n",
    "\n",
    "# -- Center the ASD segment on the requested time\n",
    "indx1 = np.where(np.abs(rel_time) < dt) #You get the boundary where GW170817 occured\n",
    "indx=indx1[0][0] #Take the lower bound\n",
    "\n",
    "strain_seg = strain[indx-N_samp : indx+N_samp] #Take an interval of the strain data around the time of the event\n",
    "time_seg = rel_time[indx-N_samp : indx+N_samp] #Take an interval of the time data around the time of the event\n",
    "\n",
    "# number of sample for the fast fourier transform:\n",
    "NFFT = fs #Sum over N terms in a DFT (disrete FT)\n",
    "fmin = 20 \n",
    "fmax = 2000\n",
    "Pxx, freqs = mlab.psd(strain_seg, Fs = fs, NFFT=NFFT, \n",
    "                      noverlap=NFFT/2, window=np.blackman(NFFT)) #Its looking at a time series\n",
    "# strain_seg is dicrete and filtered , this the FFT value x\n",
    "# NFFT is the number of points per data block \n",
    "# Fs parameter scales the frequency axis on the interval [0,Fs/2]\n",
    "# window takes samples along the frequencies\n",
    "\n",
    "\n",
    "\n",
    "\n",
    "# We will use interpolations of the ASDs computed above for whitening:\n",
    "psd = interp1d(freqs, Pxx) #Discrete to continuous\n",
    "\n",
    "# plot the ASDs:\n",
    "#fig1 = plt.figure()\n",
    "detector = 'L1'\n",
    "plt.loglog(freqs, np.sqrt(Pxx),'r',label='{0} strain'.format(detector))\n",
    "plt.axis([fmin, fmax, 1e-24, 1e-19])\n",
    "plt.grid('on')\n",
    "plt.ylabel('ASD (strain/rtHz)')\n",
    "plt.xlabel('Freq (Hz)')\n",
    "plt.legend(loc='upper center')\n",
    "plt.title('Strain data near {0}'.format(t0))\n",
    "plt.savefig('../img/asd.png')"
   ]
  },
  {
   "cell_type": "markdown",
   "metadata": {},
   "source": [
    "http://faculty.jsd.claremont.edu/jmilton/Math_Lab_tool/Labs/Lab9.pdf\n",
    "\n",
    "A good introduction to FFT and the psd command"
   ]
  },
  {
   "cell_type": "markdown",
   "metadata": {},
   "source": [
    "## Whiten the data"
   ]
  },
  {
   "cell_type": "code",
   "execution_count": null,
   "metadata": {},
   "outputs": [],
   "source": [
    "# function to writen data\n",
    "def whiten(strain, interp_psd, dt):\n",
    "    Nt = len(strain)\n",
    "    freqs = np.fft.rfftfreq(Nt, dt)\n",
    "\n",
    "    # whitening: transform to freq domain, divide by asd, then transform back, \n",
    "    # taking care to get normalization right.\n",
    "    hf = np.fft.rfft(strain)\n",
    "    white_hf = hf / (np.sqrt(interp_psd(freqs) /dt/2.))\n",
    "    white_ht = np.fft.irfft(white_hf, n=Nt)\n",
    "    return white_ht\n",
    "# now whiten the data\n",
    "strain_whiten = whiten(strain_seg,psd,dt)"
   ]
  },
  {
   "cell_type": "markdown",
   "metadata": {},
   "source": [
    "## Band-pass the data"
   ]
  },
  {
   "cell_type": "code",
   "execution_count": null,
   "metadata": {},
   "outputs": [],
   "source": [
    "# We need to suppress the high frequencies with some bandpassing:\n",
    "high_freq = 700.\n",
    "low_freq  = 20.\n",
    "bb, ab = butter(4, [low_freq*2./fs, high_freq*2./fs], btype='band')\n",
    "strain_whitenbp = filtfilt(bb, ab, strain_whiten) #butterworth filter, how to damp the freuquencies not between \n",
    "# \n",
    "\n",
    "fig2 = plt.figure()\n",
    "plt.plot(time_seg,strain_whitenbp,'r',label='H1 strain')\n",
    "\n",
    "plt.xlim([-deltat,deltat])\n",
    "plt.ylim([-10,10])\n",
    "plt.xlabel('time (s) since '+str(t0))\n",
    "plt.ylabel('whitented strain')\n",
    "plt.legend(loc='lower left')\n",
    "plt.title('WHITENED strain')\n",
    "plt.savefig('../img/strain_whitened.png')"
   ]
  },
  {
   "cell_type": "markdown",
   "metadata": {},
   "source": [
    "## Spectrogram"
   ]
  },
  {
   "cell_type": "code",
   "execution_count": null,
   "metadata": {},
   "outputs": [],
   "source": [
    "# pick a shorter FFT time interval:\n",
    "NFFT = int(2*fs) # fs = 4096 \n",
    "# and with a lot of overlap, to resolve short-time features:\n",
    "NOVL = int(NFFT*15./16)\n",
    "# and choose a window that minimizes \"spectral leakage\" \n",
    "# (https://en.wikipedia.org/wiki/Spectral_leakage)\n",
    "window = np.blackman(NFFT) \n",
    "\n",
    "spec_cmap='viridis' #just the type of spectromap\n",
    "#spec_cmap='summer' \n",
    "\n",
    "# Calculate the whitened spectrogram\n",
    "plt.figure()\n",
    "spec_L1, freqs, bins, im = plt.specgram(strain_whiten, NFFT=NFFT, Fs=fs, window=window, \n",
    "      noverlap=NOVL, xextent=[-deltat,deltat], cmap=spec_cmap, vmin=0, vmax=0.01, scale='linear')\n",
    "plt.axis([-10, 5, 0, 300])\n",
    "plt.xlabel('Time (s)')\n",
    "plt.ylabel('Frequency (Hz)')\n",
    "plt.savefig(\"../img/spectrogram.png\")"
   ]
  },
  {
   "cell_type": "markdown",
   "metadata": {},
   "source": [
    "We now have the relativistic image from the Neutron star - Neutron star merger. This next part is a newtonian approximation calculated from Peters and Matthews (1963) https://journals.aps.org/pr/abstract/10.1103/PhysRev.131.435. Predicting the existence of Gravitational radiation from a gravitational quadrupole, so that of two massive bodies orbiting one another. Below is the frequency of this radiation as calculated by Peters and Matthews."
   ]
  },
  {
   "cell_type": "markdown",
   "metadata": {},
   "source": [
    "$$f = k(t_0 - t)^{8/3}$$"
   ]
  },
  {
   "cell_type": "markdown",
   "metadata": {},
   "source": [
    "$k$ here is a constant that depends on the masses of the two bodies and we'll take $t_0$ to be $0$."
   ]
  },
  {
   "cell_type": "code",
   "execution_count": null,
   "metadata": {
    "scrolled": true
   },
   "outputs": [],
   "source": [
    "\n",
    "KK=0.0000007\n",
    "tvalues=np.linspace(-10,5,500)\n",
    "fvalues=(8/3.0*KK*(-tvalues))**(-3/8)\n",
    "plt.plot(tvalues,fvalues,linestyle='--', dashes=(5,7), color='r')\n",
    "plt.xlabel(\"Time (s)\")\n",
    "plt.ylabel(\"Frequency (Hz)\")\n",
    "plt.xlim(-10,5)\n",
    "plt.ylim(0,300)\n",
    "plt.savefig(\"../img/chirpmass.png\",transparent=True)"
   ]
  },
  {
   "cell_type": "code",
   "execution_count": null,
   "metadata": {},
   "outputs": [],
   "source": [
    "from PIL import Image\n",
    "from IPython.display import Image as img\n",
    "\n",
    "# Superimpose our calculated curve onto the spectrogram image\n",
    "background=Image.open(\"../img/spectrogram.png\")\n",
    "foreground=Image.open(\"../img/chirpmass.png\")\n",
    "background.paste(foreground, (0,0), foreground)\n",
    "background.save('../img/Image_paste.png')\n",
    "\n",
    "pil_img = img(filename='../img/Image_paste.png')\n",
    "display(pil_img)"
   ]
  },
  {
   "cell_type": "code",
   "execution_count": null,
   "metadata": {},
   "outputs": [],
   "source": []
  }
 ],
 "metadata": {
  "kernelspec": {
   "display_name": "Python 3",
   "language": "python",
   "name": "python3"
  },
  "language_info": {
   "codemirror_mode": {
    "name": "ipython",
    "version": 3
   },
   "file_extension": ".py",
   "mimetype": "text/x-python",
   "name": "python",
   "nbconvert_exporter": "python",
   "pygments_lexer": "ipython3",
   "version": "3.7.1"
  }
 },
 "nbformat": 4,
 "nbformat_minor": 1
}
